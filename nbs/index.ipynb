{
 "cells": [
  {
   "cell_type": "code",
   "execution_count": null,
   "metadata": {},
   "outputs": [],
   "source": [
    "#hide\n",
    "from fastai2_audio import *"
   ]
  },
  {
   "cell_type": "markdown",
   "metadata": {},
   "source": [
    "# Fastai2 Audio\n",
    "\n",
    "> An audio module for v2 of fastai. We want to help you build audio machine learning applications while minimizing the need for audio domain expertise. Currently under development."
   ]
  },
  {
   "cell_type": "markdown",
   "metadata": {},
   "source": [
    "## Install"
   ]
  },
  {
   "cell_type": "markdown",
   "metadata": {},
   "source": [
    "In the future we will offer conda and pip installs, but as the code is rapidly changing, we recommend that only those interested in contributing and experimenting install for now. Everyone else should use [Fastai audio v1](https://github.com/mogwai/fastai_audio)\n",
    "\n",
    "To install:\n",
    "\n",
    "``` \n",
    "pip install packaging\n",
    "pip install git+https://github.com/rbracco/fastai2_audio.git\n",
    "```\n",
    "\n",
    "If you plan on contributing to the library instead, you will need to do a editable install:\n",
    "\n",
    "``` \n",
    "pip install packaging nbdev --upgrade\n",
    "git clone https://github.com/rbracco/fastai2_audio\n",
    "cd fastai2_audio\n",
    "nbdev_install_git_hooks\n",
    "pip install -e \".[dev]\"\n",
    "```\n",
    "\n",
    "The final step sets up git hooks, which clean up the notebooks to remove the extraneous stuff stored in the notebooks (e.g. which cells you ran) which causes unnecessary merge conflicts.\n",
    "\n",
    "Before submitting a PR, check that the local library and notebooks match. The script `nbdev_diff_nbs` can let you know if there is a difference between the local library and the notebooks.\n",
    "* If you made a change to the notebooks in one of the exported cells, you can export it to the library with `nbdev_build_lib` or `make fastai2`.\n",
    "* If you made a change to the library, you can export it back to the notebooks with `nbdev_update_lib`."
   ]
  },
  {
   "cell_type": "markdown",
   "metadata": {},
   "source": [
    "# Contributors\n",
    "We are looking for contributors of all skill levels. If you don't have time to contribute, please at least reach out and give us some feedback on the library by posting in the [v2 audio thread](https://forums.fast.ai/t/fastai-v2-audio/53535) or contact us via PM [@baz](https://forums.fast.ai/u/baz/) or [@madeupmasters](https://forums.fast.ai/u/MadeUpMasters/)\n",
    "\n",
    "### Active Contributors\n",
    "- [kevinbird15](https://github.com/kevinbird15)\n",
    "- [mogwai](https://github.com/mogwai)\n",
    "- [rbracco](https://github.com/rbracco)\n",
    "- [Hiromis](https://github.com/hiromis)\n",
    "- [scart97](https://github.com/scart97)\n",
    "\n",
    "### How to contribute\n",
    "Create issues, write documentation, suggest/add features, submit PRs. We are open to anything. A good first step would be posting in the [v2 audio thread](https://forums.fast.ai/t/fastai-v2-audio/53535) introducing yourself "
   ]
  },
  {
   "cell_type": "code",
   "execution_count": null,
   "metadata": {},
   "outputs": [],
   "source": []
  }
 ],
 "metadata": {
  "kernelspec": {
   "display_name": "Python 3",
   "language": "python",
   "name": "python3"
  }
 },
 "nbformat": 4,
 "nbformat_minor": 2
}
