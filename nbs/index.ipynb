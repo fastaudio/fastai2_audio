{
 "cells": [
  {
   "cell_type": "code",
   "execution_count": null,
   "metadata": {},
   "outputs": [],
   "source": [
    "#hide\n",
    "from fastai2_audio import *"
   ]
  },
  {
   "cell_type": "markdown",
   "metadata": {},
   "source": [
    "# Fastai2 Audio\n",
    "\n",
    "> An audio module for v2 of fastai. We want to help you build audio machine learning applications while minimizing the need for audio domain expertise. Currently under development.\n",
    "\n",
    "# IMPORTANT\n",
    "\n",
    "This version of the library is no longer being supported. All of the future development can be found here: \n",
    "\n",
    "https://github.com/fastaudio/fastaudio"
   ]
  },
  {
   "cell_type": "markdown",
   "metadata": {},
   "source": [
    "# Quick Start\n",
    "\n",
    "[Google Colab Notebook](https://colab.research.google.com/gist/PranY/ba0245752fff8ec2eb645afcc13f74f6/music.ipynb)\n",
    "\n",
    "[Zachary Mueller's class](https://youtu.be/0IQYJNkAI3k?t=1665)"
   ]
  },
  {
   "cell_type": "markdown",
   "metadata": {},
   "source": [
    "## Install"
   ]
  },
  {
   "cell_type": "markdown",
   "metadata": {},
   "source": [
    "In the future we will offer conda and pip installs, but as the code is rapidly changing, we recommend that only those interested in contributing and experimenting install for now. Everyone else should use [Fastai audio v1](https://github.com/mogwai/fastai_audio)\n",
    "\n",
    "To install:\n",
    "\n",
    "``` \n",
    "pip install packaging\n",
    "pip install git+https://github.com/rbracco/fastai2_audio.git\n",
    "```\n",
    "\n",
    "If you plan on contributing to the library instead, you will need to do a editable install:\n",
    "\n",
    "``` \n",
    "pip install packaging nbdev --upgrade\n",
    "git clone https://github.com/rbracco/fastai2_audio\n",
    "cd fastai2_audio\n",
    "nbdev_install_git_hooks\n",
    "pip install -e .\n",
    "```"
   ]
  },
  {
   "cell_type": "markdown",
   "metadata": {},
   "source": [
    "# Contributing to the library"
   ]
  },
  {
   "cell_type": "markdown",
   "metadata": {},
   "source": [
    "We are looking for contributors of all skill levels. If you don't have time to contribute, please at least reach out and give us some feedback on the library by posting in the [v2 audio thread](https://forums.fast.ai/t/fastai-v2-audio/53535) or contact us via PM [@baz](https://forums.fast.ai/u/baz/) or [@madeupmasters](https://forums.fast.ai/u/MadeUpMasters/)\n",
    "\n",
    "### How to contribute\n",
    "Create issues, write documentation, suggest/add features, submit PRs. We are open to anything. A good first step would be posting in the [v2 audio thread](https://forums.fast.ai/t/fastai-v2-audio/53535) introducing yourself.\n",
    "\n",
    "### How to submit a PR\n",
    "The first step to create a new PR is to install `jupyter notebook` or `jupyterlab`. This library is build using [nbdev](https://nbdev.fast.ai/), meaning that all of the code, documentation and test is written into notebooks, and the `.py` python files, online docs and CI tests are created by nbdev based on those notebooks.\n",
    "\n",
    "All of the files that you will change are present into the `nbs/` folder. Your general workflow while developing will be:\n",
    "* Open the notebooks using jupyter\n",
    "* Change what is present\n",
    "* Save the file\n",
    "* Run `make` and nbdev will update the library files, documentation and run the tests all at once\n",
    "* Check if any errors occured while running the last step, then fix it and run `make` again\n",
    "* Commit the changes\n",
    "\n",
    "### Advanced PR tips\n",
    "\n",
    "* The command `nbdev_diff_nbs` can let you know if there is a difference between the local library and the notebooks.\n",
    "\n",
    "* If you made a change to the notebooks in one of the exported cells, you can update the library with `nbdev_build_lib` or `make fastai2`. Note that this command will only update the library code, so before any commit, you'll need to run `make` as usual to update the docs and run the tests.\n",
    "\n",
    "* If you made a change to the library, you can export it back to the notebooks with `nbdev_update_lib`."
   ]
  },
  {
   "cell_type": "markdown",
   "metadata": {},
   "source": [
    "# Active Contributors\n",
    "- [kevinbird15](https://github.com/kevinbird15)\n",
    "- [mogwai](https://github.com/mogwai)\n",
    "- [rbracco](https://github.com/rbracco)\n",
    "- [Hiromis](https://github.com/hiromis)\n",
    "- [scart97](https://github.com/scart97)"
   ]
  }
 ],
 "metadata": {
  "kernelspec": {
   "display_name": "Python 3",
   "language": "python",
   "name": "python3"
  },
  "language_info": {
   "codemirror_mode": {
    "name": "ipython",
    "version": 3
   },
   "file_extension": ".py",
   "mimetype": "text/x-python",
   "name": "python",
   "nbconvert_exporter": "python",
   "pygments_lexer": "ipython3",
   "version": "3.7.7"
  }
 },
 "nbformat": 4,
 "nbformat_minor": 2
}
